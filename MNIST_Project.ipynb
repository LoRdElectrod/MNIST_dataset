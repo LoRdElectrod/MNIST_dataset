{
 "cells": [
  {
   "cell_type": "code",
   "execution_count": 3,
   "id": "5068e31a-4c64-41fd-a0b4-1bea839882d5",
   "metadata": {},
   "outputs": [],
   "source": [
    "#relevant Libraries\n",
    "import numpy as np\n",
    "import tensorflow as tf\n",
    "import tensorflow_datasets as tfds"
   ]
  },
  {
   "cell_type": "code",
   "execution_count": 11,
   "id": "a5d44402-831c-41cf-a9a1-92e098573cd5",
   "metadata": {},
   "outputs": [],
   "source": [
    "#Data\n",
    "#Data will be downloaded in C:\\Users\\sharm\\tensorflow_datasets\\\n",
    "mnist_dataset, mnist_info = tfds.load(name='mnist',with_info=True,as_supervised=True)"
   ]
  },
  {
   "cell_type": "code",
   "execution_count": 13,
   "id": "518a3d1b-cb3f-4628-bf2d-37aa0ad876d7",
   "metadata": {},
   "outputs": [],
   "source": [
    "mnist_train, mnist_test = mnist_dataset['train'],mnist_dataset['test']"
   ]
  },
  {
   "cell_type": "markdown",
   "id": "e18a4529-9c88-4e43-96bb-04131f75e9e4",
   "metadata": {},
   "source": [
    "### Splitting The data\n",
    "By default the Tensorflow datasets don't have validation dataset, it just has train and test\n",
    "So we need to divide the data accordingsly"
   ]
  },
  {
   "cell_type": "code",
   "execution_count": 18,
   "id": "41f90b8e-74ec-4c65-8932-fea319ad5f14",
   "metadata": {},
   "outputs": [],
   "source": [
    "#Here we have taken 10% that it 0.1 of train data\n",
    "num_validation_samples = 0.1 * mnist_info.splits['train'].num_examples\n",
    "num_validation_samples = tf.cast(num_validation_samples, tf.int64) #This will cast values to integers"
   ]
  },
  {
   "cell_type": "code",
   "execution_count": 20,
   "id": "815d4edb-d86a-491a-abc5-d99984e87a55",
   "metadata": {},
   "outputs": [],
   "source": [
    "#To store test samples\n",
    "num_test_samples = mnist_info.splits['test'].num_examples\n",
    "num_test_samples = tf.cast(num_test_samples, tf.int64)"
   ]
  },
  {
   "cell_type": "markdown",
   "id": "040e57fe-1e16-4fea-bd6c-3b0ebbf9b7e2",
   "metadata": {},
   "source": [
    "### Function to Scale the inputs \n",
    "It will take MNIST image and it's label"
   ]
  },
  {
   "cell_type": "code",
   "execution_count": 37,
   "id": "6c691a28-add9-47e0-b525-7189a817b794",
   "metadata": {},
   "outputs": [],
   "source": [
    "'''Batch_size = 1 = Stochastic Gradient descent (SGD)\n",
    "batch_size = #Samples = (single batch) GD\n",
    "so, 1<batch size<# samples = mini-batch GD'''\n",
    "\n",
    "def scale(image,label):\n",
    "    image = tf.cast(image,tf.float32)   #typecasting to float\n",
    "    image /= 255.\n",
    "    return image, label\n",
    "    \n",
    "scaled_train_and_validation_data = mnist_train.map(scale)\n",
    "test_data = mnist_test.map(scale)\n",
    "\n",
    "BUFFER_SIZE = 10000   #it's shuffling the batches \n",
    "shuffle_train_and_validation_data = scaled_train_and_validation_data.shuffle(BUFFER_SIZE)\n",
    "\n",
    "validation_data = shuffle_train_and_validation_data.take(num_validation_samples)\n",
    "train_data = shuffle_train_and_validation_data.skip(num_validation_samples)\n",
    "\n",
    "BATCH_SIZE = 100\n",
    "\n",
    "train_data = train_data.batch(BATCH_SIZE)\n",
    "validation_data = validation_data.batch(num_validation_samples)\n",
    "test_data = test_data.batch(num_test_samples)\n",
    "\n",
    "validation_inputs, validation_targets = next(iter(validation_data))"
   ]
  },
  {
   "cell_type": "markdown",
   "id": "6c85b5b0-bd1e-4335-b716-1112251cacd4",
   "metadata": {},
   "source": [
    "### Outlining the Model"
   ]
  },
  {
   "cell_type": "code",
   "execution_count": 82,
   "id": "b03829f7-b8ab-4cd7-860c-3ad52b5265b5",
   "metadata": {},
   "outputs": [],
   "source": [
    "input_size = 784\n",
    "output_size = 10\n",
    "hidden_layer_size = 100\n",
    "\n",
    "model = tf.keras.Sequential([\n",
    "    tf.keras.layers.Flatten(input_shape = (28,28,1)),\n",
    "    tf.keras.layers.Dense(hidden_layer_size, activation = 'relu'),\n",
    "    tf.keras.layers.Dense(hidden_layer_size, activation='relu'),\n",
    "    tf.keras.layers.Dense(hidden_layer_size, activation='relu'),    \n",
    "    tf.keras.layers.Dense(output_size, activation='softmax')\n",
    "])"
   ]
  },
  {
   "cell_type": "markdown",
   "id": "63e47518-c0c2-4f99-baa8-8face9e3adde",
   "metadata": {},
   "source": [
    "### Choosing the optimizer and the Loss Function"
   ]
  },
  {
   "cell_type": "code",
   "execution_count": 85,
   "id": "ba58a9aa-5cf3-49b5-9501-f72b900fa46d",
   "metadata": {},
   "outputs": [],
   "source": [
    "model.compile(optimizer='adam', loss = 'sparse_categorical_crossentropy', \n",
    "              metrics = ['accuracy']) "
   ]
  },
  {
   "cell_type": "markdown",
   "id": "e827fb7d-2eea-41b9-908d-005e9e490e1b",
   "metadata": {},
   "source": [
    "### Training"
   ]
  },
  {
   "cell_type": "code",
   "execution_count": 88,
   "id": "72f7161d-1dbf-4a7c-9e46-4d5814de8392",
   "metadata": {},
   "outputs": [
    {
     "name": "stdout",
     "output_type": "stream",
     "text": [
      "Epoch 1/5\n",
      "540/540 - 2s - 3ms/step - accuracy: 0.9048 - loss: 0.3290 - val_accuracy: 0.9547 - val_loss: 0.1524\n",
      "Epoch 2/5\n",
      "540/540 - 1s - 2ms/step - accuracy: 0.9607 - loss: 0.1314 - val_accuracy: 0.9630 - val_loss: 0.1199\n",
      "Epoch 3/5\n",
      "540/540 - 1s - 2ms/step - accuracy: 0.9704 - loss: 0.0950 - val_accuracy: 0.9743 - val_loss: 0.0840\n",
      "Epoch 4/5\n",
      "540/540 - 1s - 2ms/step - accuracy: 0.9779 - loss: 0.0706 - val_accuracy: 0.9780 - val_loss: 0.0684\n",
      "Epoch 5/5\n",
      "540/540 - 1s - 2ms/step - accuracy: 0.9819 - loss: 0.0581 - val_accuracy: 0.9833 - val_loss: 0.0580\n"
     ]
    },
    {
     "data": {
      "text/plain": [
       "<keras.src.callbacks.history.History at 0x1ba4e986960>"
      ]
     },
     "execution_count": 88,
     "metadata": {},
     "output_type": "execute_result"
    }
   ],
   "source": [
    "NUM_EPOCHS = 5\n",
    "\n",
    "model.fit(train_data, epochs = NUM_EPOCHS, \n",
    "          validation_data= (validation_inputs, validation_targets), verbose = 2)"
   ]
  },
  {
   "cell_type": "markdown",
   "id": "b6fd4c51-fc28-4c23-9af1-41121566f62c",
   "metadata": {},
   "source": [
    "### Test The Model"
   ]
  },
  {
   "cell_type": "code",
   "execution_count": 91,
   "id": "4564f286-ecab-4ba1-bb01-650afc9e902f",
   "metadata": {},
   "outputs": [
    {
     "name": "stdout",
     "output_type": "stream",
     "text": [
      "\u001b[1m1/1\u001b[0m \u001b[32m━━━━━━━━━━━━━━━━━━━━\u001b[0m\u001b[37m\u001b[0m \u001b[1m0s\u001b[0m 197ms/step - accuracy: 0.9732 - loss: 0.0874\n"
     ]
    }
   ],
   "source": [
    "test_loss,test_accuracy = model.evaluate(test_data)"
   ]
  },
  {
   "cell_type": "code",
   "execution_count": 95,
   "id": "59649cfa-e734-4b2f-b9ca-a0071d3eb63e",
   "metadata": {},
   "outputs": [
    {
     "name": "stdout",
     "output_type": "stream",
     "text": [
      "Test Loss: 0.09, Test Accuracy: 97.32%\n"
     ]
    }
   ],
   "source": [
    "print('Test Loss: {0:.2f}, Test Accuracy: {1:.2f}%'.format(test_loss, test_accuracy * 100.))"
   ]
  }
 ],
 "metadata": {
  "kernelspec": {
   "display_name": "AmazonML",
   "language": "python",
   "name": "amazonml"
  },
  "language_info": {
   "codemirror_mode": {
    "name": "ipython",
    "version": 3
   },
   "file_extension": ".py",
   "mimetype": "text/x-python",
   "name": "python",
   "nbconvert_exporter": "python",
   "pygments_lexer": "ipython3",
   "version": "3.12.5"
  }
 },
 "nbformat": 4,
 "nbformat_minor": 5
}
